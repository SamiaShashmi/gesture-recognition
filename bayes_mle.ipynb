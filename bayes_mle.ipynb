{
 "cells": [
  {
   "cell_type": "code",
   "execution_count": 1,
   "metadata": {},
   "outputs": [],
   "source": [
    "import numpy as np\n",
    "import pandas as pd\n",
    "from scipy.stats import norm\n",
    "import os\n",
    "from sklearn.model_selection import train_test_split\n",
    "from PIL import Image\n",
    "from sklearn.model_selection import train_test_split\n",
    "from sklearn.metrics import accuracy_score, classification_report, confusion_matrix\n",
    "import matplotlib.pyplot as plt\n",
    "import seaborn as sns\n",
    "import cv2"
   ]
  },
  {
   "cell_type": "markdown",
   "metadata": {},
   "source": [
    "## Bayes Features MLE"
   ]
  },
  {
   "cell_type": "code",
   "execution_count": 2,
   "metadata": {},
   "outputs": [],
   "source": [
    "data_path = 'data.csv'\n",
    "data = pd.read_csv(data_path)\n",
    "main_folder = 'data'\n",
    "\n",
    "def load_frames(video_id):\n",
    "    folder = os.path.join(main_folder, str(video_id))\n",
    "    frames = []\n",
    "    for img in sorted(os.listdir(folder)):\n",
    "        img_path = os.path.join(folder, img)\n",
    "        img = Image.open(img_path)\n",
    "        frames.append(np.array(img).flatten())\n",
    "    return np.array(frames).flatten()  \n",
    "\n",
    "features = []\n",
    "labels = []\n",
    "for index, row in data.iterrows():\n",
    "    video_id = row['video_id']\n",
    "    label_id = row['label_id']\n",
    "    feature_vector = load_frames(video_id)\n",
    "    features.append(feature_vector)\n",
    "    labels.append(label_id)\n",
    "\n",
    "X = np.array(features)\n",
    "y = np.array(labels)"
   ]
  },
  {
   "cell_type": "code",
   "execution_count": 3,
   "metadata": {},
   "outputs": [],
   "source": [
    "X_train, X_temp, y_train, y_temp = train_test_split(X, y, test_size=0.4)\n",
    "X_val, X_test, y_val, y_test = train_test_split(X_temp, y_temp, test_size=0.5)"
   ]
  },
  {
   "cell_type": "code",
   "execution_count": 2,
   "metadata": {},
   "outputs": [],
   "source": [
    "def estimate_params(features, labels):\n",
    "    params = {}\n",
    "    unique_labels = np.unique(labels)\n",
    "    for label in unique_labels:\n",
    "        class_features = features[labels == label]\n",
    "        params[label] = {\n",
    "            'mean': np.mean(class_features, axis=0),\n",
    "            'std': np.std(class_features, axis=0)\n",
    "        }\n",
    "    return params"
   ]
  },
  {
   "cell_type": "code",
   "execution_count": 5,
   "metadata": {},
   "outputs": [],
   "source": [
    "params = estimate_params(X_train, y_train)"
   ]
  },
  {
   "cell_type": "code",
   "execution_count": 3,
   "metadata": {},
   "outputs": [],
   "source": [
    "def bayesian_classifier(test_features, params, class_priors):\n",
    "    posteriors = []\n",
    "    for label, stats in params.items():\n",
    "        prior = class_priors[label]\n",
    "        log_likelihood = np.sum(norm.logpdf(test_features, stats['mean'], stats['std']))\n",
    "        posterior = log_likelihood + np.log(prior)\n",
    "        posteriors.append((label, posterior))\n",
    "    \n",
    "    return max(posteriors, key=lambda x: x[1])[0]"
   ]
  },
  {
   "cell_type": "code",
   "execution_count": 7,
   "metadata": {},
   "outputs": [],
   "source": [
    "class_priors = {label: np.mean(y_train == label) for label in np.unique(y_train)}"
   ]
  },
  {
   "cell_type": "code",
   "execution_count": 8,
   "metadata": {},
   "outputs": [
    {
     "name": "stdout",
     "output_type": "stream",
     "text": [
      "Validation Accuracy: 15.160703456640388\n"
     ]
    }
   ],
   "source": [
    "predicted_labels = [bayesian_classifier(feat, params, class_priors) for feat in X_val]\n",
    "\n",
    "accuracy = np.mean(predicted_labels == y_val)\n",
    "print(f'Validation Accuracy: {accuracy*100}')"
   ]
  },
  {
   "cell_type": "markdown",
   "metadata": {},
   "source": [
    "## Bayes Featurs MLE with Normalization"
   ]
  },
  {
   "cell_type": "code",
   "execution_count": 4,
   "metadata": {},
   "outputs": [],
   "source": [
    "data_path = 'data.csv'\n",
    "data = pd.read_csv(data_path)\n",
    "main_folder = 'data'\n",
    "\n",
    "def load_frames(video_id):\n",
    "    folder = os.path.join(main_folder, str(video_id))\n",
    "    frames = []\n",
    "    for img in sorted(os.listdir(folder)):\n",
    "        img_path = os.path.join(folder, img)\n",
    "        img = Image.open(img_path)\n",
    "        img = np.array(img) / 255\n",
    "        frames.append(img.flatten())\n",
    "    return np.array(frames).flatten()  \n",
    "\n",
    "features = []\n",
    "labels = []\n",
    "for index, row in data.iterrows():\n",
    "    video_id = row['video_id']\n",
    "    label_id = row['label_id']\n",
    "    feature_vector = load_frames(video_id)\n",
    "    features.append(feature_vector)\n",
    "    labels.append(label_id)\n",
    "\n",
    "X = np.array(features)\n",
    "y = np.array(labels)"
   ]
  },
  {
   "cell_type": "code",
   "execution_count": 6,
   "metadata": {},
   "outputs": [],
   "source": [
    "X_train, X_temp, y_train, y_temp = train_test_split(X, y, test_size=0.4)\n",
    "X_val, X_test, y_val, y_test = train_test_split(X_temp, y_temp, test_size=0.5)"
   ]
  },
  {
   "cell_type": "code",
   "execution_count": 7,
   "metadata": {},
   "outputs": [],
   "source": [
    "params = estimate_params(X_train, y_train)"
   ]
  },
  {
   "cell_type": "code",
   "execution_count": 8,
   "metadata": {},
   "outputs": [],
   "source": [
    "class_priors = {label: np.mean(y_train == label) for label in np.unique(y_train)}"
   ]
  },
  {
   "cell_type": "code",
   "execution_count": 9,
   "metadata": {},
   "outputs": [
    {
     "name": "stdout",
     "output_type": "stream",
     "text": [
      "Validation Accuracy: 14.918132201334142\n"
     ]
    },
    {
     "ename": "",
     "evalue": "",
     "output_type": "error",
     "traceback": [
      "\u001b[1;31mThe Kernel crashed while executing code in the current cell or a previous cell. \n",
      "\u001b[1;31mPlease review the code in the cell(s) to identify a possible cause of the failure. \n",
      "\u001b[1;31mClick <a href='https://aka.ms/vscodeJupyterKernelCrash'>here</a> for more info. \n",
      "\u001b[1;31mView Jupyter <a href='command:jupyter.viewOutput'>log</a> for further details."
     ]
    }
   ],
   "source": [
    "predicted_labels = [bayesian_classifier(feat, params, class_priors) for feat in X_val]\n",
    "\n",
    "accuracy = np.mean(predicted_labels == y_val)\n",
    "print(f'Validation Accuracy: {accuracy*100}')"
   ]
  },
  {
   "cell_type": "markdown",
   "metadata": {},
   "source": [
    "## Bayes Feature MLE on GrayScale"
   ]
  },
  {
   "cell_type": "code",
   "execution_count": 12,
   "metadata": {},
   "outputs": [],
   "source": [
    "data_path = 'data.csv'\n",
    "data = pd.read_csv(data_path)\n",
    "main_folder = 'data'\n",
    "\n",
    "def load_frames(video_id):\n",
    "    folder = os.path.join(main_folder, str(video_id))\n",
    "    frames = []\n",
    "    for img in sorted(os.listdir(folder)):\n",
    "        img_path = os.path.join(folder, img)\n",
    "        img = Image.open(img_path).convert('L')\n",
    "        frames.append(np.array(img).flatten())\n",
    "    return np.array(frames).flatten()  \n",
    "\n",
    "features = []\n",
    "labels = []\n",
    "for index, row in data.iterrows():\n",
    "    video_id = row['video_id']\n",
    "    label_id = row['label_id']\n",
    "    feature_vector = load_frames(video_id)\n",
    "    features.append(feature_vector)\n",
    "    labels.append(label_id)\n",
    "\n",
    "X = np.array(features)\n",
    "y = np.array(labels)"
   ]
  },
  {
   "cell_type": "code",
   "execution_count": 13,
   "metadata": {},
   "outputs": [],
   "source": [
    "X_train, X_temp, y_train, y_temp = train_test_split(X, y, test_size=0.4)\n",
    "X_val, X_test, y_val, y_test = train_test_split(X_temp, y_temp, test_size=0.5)"
   ]
  },
  {
   "cell_type": "code",
   "execution_count": 14,
   "metadata": {},
   "outputs": [],
   "source": [
    "params = estimate_params(X_train, y_train)"
   ]
  },
  {
   "cell_type": "code",
   "execution_count": 15,
   "metadata": {},
   "outputs": [],
   "source": [
    "class_priors = {label: np.mean(y_train == label) for label in np.unique(y_train)}"
   ]
  },
  {
   "cell_type": "code",
   "execution_count": 16,
   "metadata": {},
   "outputs": [
    {
     "name": "stdout",
     "output_type": "stream",
     "text": [
      "Validation Accuracy: 14.493632504548213\n"
     ]
    }
   ],
   "source": [
    "predicted_labels = [bayesian_classifier(feat, params, class_priors) for feat in X_val]\n",
    "\n",
    "accuracy = np.mean(predicted_labels == y_val)\n",
    "print(f'Validation Accuracy: {accuracy*100}')"
   ]
  },
  {
   "cell_type": "markdown",
   "metadata": {},
   "source": [
    "## Bayes Feature MLE on Mean"
   ]
  },
  {
   "cell_type": "code",
   "execution_count": 17,
   "metadata": {},
   "outputs": [],
   "source": [
    "data_path = 'data.csv'\n",
    "data = pd.read_csv(data_path)\n",
    "main_folder = 'data'\n",
    "\n",
    "def load_frames(video_id):\n",
    "    folder = os.path.join(main_folder, str(video_id))\n",
    "    frames = []\n",
    "    for img in sorted(os.listdir(folder)):\n",
    "        img_path = os.path.join(folder, img)\n",
    "        img = Image.open(img_path).convert('L')\n",
    "        img_array = np.array(img).flatten()\n",
    "        frames.append(img_array)\n",
    "        avg_frame = np.mean(frames, axis=0)\n",
    "    return avg_frame.flatten()  \n",
    "\n",
    "features = []\n",
    "labels = []\n",
    "for index, row in data.iterrows():\n",
    "    video_id = row['video_id']\n",
    "    label_id = row['label_id']\n",
    "    feature_vector = load_frames(video_id)\n",
    "    features.append(feature_vector)\n",
    "    labels.append(label_id)\n",
    "\n",
    "X = np.array(features)\n",
    "y = np.array(labels)"
   ]
  },
  {
   "cell_type": "code",
   "execution_count": 18,
   "metadata": {},
   "outputs": [],
   "source": [
    "X_train, X_temp, y_train, y_temp = train_test_split(X, y, test_size=0.4)\n",
    "X_val, X_test, y_val, y_test = train_test_split(X_temp, y_temp, test_size=0.5)"
   ]
  },
  {
   "cell_type": "code",
   "execution_count": 19,
   "metadata": {},
   "outputs": [],
   "source": [
    "params = estimate_params(X_train, y_train)"
   ]
  },
  {
   "cell_type": "code",
   "execution_count": 20,
   "metadata": {},
   "outputs": [],
   "source": [
    "class_priors = {label: np.mean(y_train == label) for label in np.unique(y_train)}"
   ]
  },
  {
   "cell_type": "code",
   "execution_count": 21,
   "metadata": {},
   "outputs": [
    {
     "name": "stdout",
     "output_type": "stream",
     "text": [
      "Validation Accuracy: 15.463917525773196\n"
     ]
    }
   ],
   "source": [
    "predicted_labels = [bayesian_classifier(feat, params, class_priors) for feat in X_val]\n",
    "\n",
    "accuracy = np.mean(predicted_labels == y_val)\n",
    "print(f'Validation Accuracy: {accuracy*100}')"
   ]
  },
  {
   "cell_type": "markdown",
   "metadata": {},
   "source": [
    "## Bayes Feature MLE with LDA"
   ]
  },
  {
   "cell_type": "code",
   "execution_count": null,
   "metadata": {},
   "outputs": [],
   "source": [
    "def extract_features(video_id, base_path, lda):\n",
    "    features = []\n",
    "    folder_path = os.path.join(base_path, str(video_id))\n",
    "    if os.path.exists(folder_path):\n",
    "        for frame in os.listdir(folder_path):\n",
    "            frame_path = os.path.join(folder_path, frame)\n",
    "            img = cv2.imread(frame_path, cv2.IMREAD_GRAYSCALE)\n",
    "            if img is not None:\n",
    "                img = cv2.resize(img, (32, 32)) \n",
    "                features.append(img.flatten())\n",
    "    \n",
    "    if features:\n",
    "        features = np.array(features)\n",
    "        lda_features = lda.transform(features)\n",
    "        lda_features = np.mean(lda_features, axis=0)\n",
    "        return lda_features\n",
    "    else:\n",
    "        return np.zeros(lda.n_components)"
   ]
  },
  {
   "cell_type": "code",
   "execution_count": null,
   "metadata": {},
   "outputs": [],
   "source": [
    "data = pd.read_csv('data.csv')\n",
    "base_path = 'data'"
   ]
  },
  {
   "cell_type": "code",
   "execution_count": null,
   "metadata": {},
   "outputs": [],
   "source": [
    "def train_lda(X, y, n_components=7):\n",
    "    lda = LinearDiscriminantAnalysis(n_components=n_components)\n",
    "    lda.fit(X, y)\n",
    "    return lda\n",
    "\n",
    "all_features = []\n",
    "all_labels = []\n",
    "for _, row in data.iterrows():\n",
    "    video_id = row['video_id']\n",
    "    label = row['label_id']\n",
    "    folder_path = os.path.join(base_path, str(video_id))\n",
    "    if os.path.exists(folder_path):\n",
    "        for frame in os.listdir(folder_path):\n",
    "            frame_path = os.path.join(folder_path, frame)\n",
    "            img = cv2.imread(frame_path, cv2.IMREAD_GRAYSCALE)\n",
    "            if img is not None:\n",
    "                img = cv2.resize(img, (32, 32))\n",
    "                all_features.append(img.flatten())\n",
    "                all_labels.append(label)\n",
    "\n",
    "all_features = np.array(all_features)\n",
    "all_labels = np.array(all_labels)\n",
    "\n",
    "\n",
    "lda = train_lda(all_features, all_labels)"
   ]
  },
  {
   "cell_type": "code",
   "execution_count": null,
   "metadata": {},
   "outputs": [],
   "source": [
    "data['features'] = data['video_id'].apply(lambda x: extract_features(x, base_path, lda))\n",
    "X = np.vstack(data['features'].values)\n",
    "y = data['label_id'].values"
   ]
  },
  {
   "cell_type": "code",
   "execution_count": null,
   "metadata": {},
   "outputs": [],
   "source": [
    "X_train, X_temp, y_train, y_temp = train_test_split(X, y, test_size=0.4)\n",
    "X_val, X_test, y_val, y_test = train_test_split(X_temp, y_temp, test_size=0.5)"
   ]
  },
  {
   "cell_type": "code",
   "execution_count": null,
   "metadata": {},
   "outputs": [],
   "source": [
    "params = estimate_params(X_train, y_train)"
   ]
  },
  {
   "cell_type": "code",
   "execution_count": null,
   "metadata": {},
   "outputs": [],
   "source": [
    "predicted_labels = [bayesian_classifier(feat, params, class_priors) for feat in X_val]\n",
    "\n",
    "accuracy = np.mean(predicted_labels == y_val)\n",
    "print(f'Validation Accuracy: {accuracy*100}')"
   ]
  },
  {
   "cell_type": "markdown",
   "metadata": {},
   "source": [
    "## Mean and Variance of Error Rate of Bayes Classifier"
   ]
  },
  {
   "cell_type": "code",
   "execution_count": null,
   "metadata": {},
   "outputs": [],
   "source": [
    "def error_mean_var(X, y, n_iterations=10, test_size=0.2):\n",
    "    error_rates = []\n",
    "    for i in range(n_iterations):\n",
    "        X_train, X_test, y_train, y_test = train_test_split(X, y, test_size=test_size)\n",
    "\n",
    "        bayes = BayesClassifier(X_train, y_train)\n",
    "        bayes.fit()\n",
    "        y_pred = bayes.predict(X_test)\n",
    "        error_rate = 1 - np.mean(y_pred == y_test)\n",
    "        error_rates.append(error_rate)\n",
    "\n",
    "        print (\"Iteration:\", i+1, \"Error Rate:\", error_rate)\n",
    "    \n",
    "    mean_error_rate = np.mean(error_rates)\n",
    "    variance_error_rate = np.var(error_rates)\n",
    "    \n",
    "    return mean_error_rate, variance_error_rate\n",
    "\n",
    "\n",
    "mean_error_rate, variance_error_rate = error_mean_var(X, y)\n",
    "\n",
    "print(\"Mean of Error Rate:\", mean_error_rate)\n",
    "print(\"Variance of Error Rate:\", variance_error_rate)"
   ]
  }
 ],
 "metadata": {
  "kernelspec": {
   "display_name": "dl",
   "language": "python",
   "name": "python3"
  },
  "language_info": {
   "codemirror_mode": {
    "name": "ipython",
    "version": 3
   },
   "file_extension": ".py",
   "mimetype": "text/x-python",
   "name": "python",
   "nbconvert_exporter": "python",
   "pygments_lexer": "ipython3",
   "version": "3.1.undefined"
  }
 },
 "nbformat": 4,
 "nbformat_minor": 2
}
