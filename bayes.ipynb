{
 "cells": [
  {
   "cell_type": "code",
   "execution_count": 8,
   "metadata": {},
   "outputs": [],
   "source": [
    "import pandas as pd\n",
    "import numpy as np\n",
    "import os\n",
    "from PIL import Image\n",
    "from sklearn.model_selection import train_test_split\n",
    "from sklearn.metrics import accuracy_score, confusion_matrix\n",
    "from sklearn.metrics import accuracy_score, classification_report, confusion_matrix\n",
    "import seaborn as sns\n",
    "import matplotlib.pyplot as plt\n",
    "from sklearn.decomposition import PCA\n",
    "from sklearn.discriminant_analysis import LinearDiscriminantAnalysis\n",
    "import cv2\n",
    "from sklearn.naive_bayes import GaussianNB\n",
    "from mlxtend.feature_selection import SequentialFeatureSelector as SFS\n"
   ]
  },
  {
   "cell_type": "markdown",
   "metadata": {},
   "source": [
    "## Bayes Classifier"
   ]
  },
  {
   "cell_type": "markdown",
   "metadata": {},
   "source": [
    "### Load Data"
   ]
  },
  {
   "cell_type": "code",
   "execution_count": null,
   "metadata": {},
   "outputs": [],
   "source": [
    "data_path = 'data.csv'\n",
    "data = pd.read_csv(data_path)\n",
    "main_folder = 'data'\n",
    "\n",
    "def load_frames(video_id):\n",
    "    folder = os.path.join(main_folder, str(video_id))\n",
    "    frames = []\n",
    "    for img in sorted(os.listdir(folder)):\n",
    "        img_path = os.path.join(folder, img)\n",
    "        img = Image.open(img_path)\n",
    "        frames.append(np.array(img).flatten())\n",
    "    return np.array(frames).flatten()  \n",
    "\n",
    "features = []\n",
    "labels = []\n",
    "for index, row in data.iterrows():\n",
    "    video_id = row['video_id']\n",
    "    label_id = row['label_id']\n",
    "    feature_vector = load_frames(video_id)\n",
    "    features.append(feature_vector)\n",
    "    labels.append(label_id)\n",
    "\n",
    "X = np.array(features)\n",
    "y = np.array(labels)"
   ]
  },
  {
   "cell_type": "markdown",
   "metadata": {},
   "source": [
    "### Train Test Split"
   ]
  },
  {
   "cell_type": "code",
   "execution_count": null,
   "metadata": {},
   "outputs": [],
   "source": [
    "X_train, X_temp, y_train, y_temp = train_test_split(X, y, test_size=0.4)\n",
    "X_val, X_test, y_val, y_test = train_test_split(X_temp, y_temp, test_size=0.5)"
   ]
  },
  {
   "cell_type": "markdown",
   "metadata": {},
   "source": [
    "### Define Classifier"
   ]
  },
  {
   "cell_type": "code",
   "execution_count": 9,
   "metadata": {},
   "outputs": [],
   "source": [
    "class BayesClassifier:\n",
    "    def __init__(self, x, y):\n",
    "        self.x = x  \n",
    "        self.y = y \n",
    "        self.classes = np.unique(y) \n",
    "        self.num_classes = len(self.classes) \n",
    "        self.class_stats = {cls: {'mean': None, 'var': None, 'prior': None} for cls in self.classes}\n",
    "\n",
    "    def fit(self):\n",
    "        for cls in self.classes:\n",
    "            x_cls = self.x[self.y == cls]  \n",
    "            class_mean = np.mean(x_cls, axis=0)\n",
    "            class_var = np.var(x_cls, axis=0) + 1e-6 \n",
    "            class_prior = x_cls.shape[0] / self.x.shape[0]\n",
    "\n",
    "            self.class_stats[cls]['mean'] = class_mean\n",
    "            self.class_stats[cls]['var'] = class_var\n",
    "            self.class_stats[cls]['prior'] = class_prior\n",
    "\n",
    "    def predict(self, x):\n",
    "        log_posteriors = []\n",
    "        for cls in self.classes:\n",
    "            mean = self.class_stats[cls]['mean']\n",
    "            var = self.class_stats[cls]['var']\n",
    "            prior = self.class_stats[cls]['prior']\n",
    "\n",
    "            log_likelihood = -0.5 * np.sum(((x - mean) ** 2) / var + np.log(2 * np.pi * var), axis=1)\n",
    "            log_posterior = log_likelihood + np.log(prior)\n",
    "            log_posteriors.append(log_posterior)\n",
    "\n",
    "        log_posteriors = np.column_stack(log_posteriors)\n",
    "        return np.argmax(log_posteriors, axis=1)"
   ]
  },
  {
   "cell_type": "markdown",
   "metadata": {},
   "source": [
    "### Fit Model"
   ]
  },
  {
   "cell_type": "code",
   "execution_count": null,
   "metadata": {},
   "outputs": [],
   "source": [
    "bayes = BayesClassifier(X_train, y_train)\n",
    "bayes.fit()"
   ]
  },
  {
   "cell_type": "code",
   "execution_count": null,
   "metadata": {},
   "outputs": [],
   "source": [
    "pred = bayes.predict(X_val)"
   ]
  },
  {
   "cell_type": "code",
   "execution_count": 13,
   "metadata": {},
   "outputs": [
    {
     "name": "stdout",
     "output_type": "stream",
     "text": [
      "              precision    recall  f1-score   support\n",
      "\n",
      "           0       0.16      0.21      0.18       211\n",
      "           1       0.15      0.21      0.18       205\n",
      "           2       0.15      0.09      0.11       196\n",
      "           3       0.09      0.05      0.06       213\n",
      "           4       0.13      0.33      0.18       193\n",
      "           5       0.13      0.04      0.07       206\n",
      "           6       0.15      0.07      0.10       210\n",
      "           7       0.17      0.14      0.15       215\n",
      "\n",
      "    accuracy                           0.14      1649\n",
      "   macro avg       0.14      0.14      0.13      1649\n",
      "weighted avg       0.14      0.14      0.13      1649\n",
      "\n",
      "14.06913280776228\n"
     ]
    },
    {
     "data": {
      "image/png": "[encoded data removed]",
      "text/plain": [
       "<Figure size 640x480 with 2 Axes>"
      ]
     },
     "metadata": {},
     "output_type": "display_data"
    }
   ],
   "source": [
    "score = accuracy_score(y_val, pred)\n",
    "report = classification_report(y_val, pred)\n",
    "cm = confusion_matrix(y_val, pred)\n",
    "\n",
    "print(report)\n",
    "print(score * 100)\n",
    "sns.heatmap(cm, annot=True)\n",
    "plt.show()"
   ]
  },
  {
   "cell_type": "markdown",
   "metadata": {},
   "source": [
    "## Bayes Classifier with Normalization"
   ]
  },
  {
   "cell_type": "markdown",
   "metadata": {},
   "source": [
    "### Load Data"
   ]
  },
  {
   "cell_type": "code",
   "execution_count": 14,
   "metadata": {},
   "outputs": [],
   "source": [
    "data_path = 'data.csv'\n",
    "data = pd.read_csv(data_path)\n",
    "main_folder = 'data'\n",
    "\n",
    "def load_frames(video_id):\n",
    "    folder = os.path.join(main_folder, str(video_id))\n",
    "    frames = []\n",
    "    for img in sorted(os.listdir(folder)):\n",
    "        img_path = os.path.join(folder, img)\n",
    "        img = Image.open(img_path)\n",
    "        img = np.array(img) / 255\n",
    "        frames.append(img.flatten())\n",
    "    return np.array(frames).flatten()  \n",
    "\n",
    "features = []\n",
    "labels = []\n",
    "for index, row in data.iterrows():\n",
    "    video_id = row['video_id']\n",
    "    label_id = row['label_id']\n",
    "    feature_vector = load_frames(video_id)\n",
    "    features.append(feature_vector)\n",
    "    labels.append(label_id)\n",
    "\n",
    "X = np.array(features)\n",
    "y = np.array(labels)"
   ]
  },
  {
   "cell_type": "markdown",
   "metadata": {},
   "source": [
    "### Train Test Split"
   ]
  },
  {
   "cell_type": "code",
   "execution_count": 15,
   "metadata": {},
   "outputs": [],
   "source": [
    "X_train, X_temp, y_train, y_temp = train_test_split(X, y, test_size=0.4)\n",
    "X_val, X_test, y_val, y_test = train_test_split(X_temp, y_temp, test_size=0.5)"
   ]
  },
  {
   "cell_type": "markdown",
   "metadata": {},
   "source": [
    "### Fit Model"
   ]
  },
  {
   "cell_type": "code",
   "execution_count": 16,
   "metadata": {},
   "outputs": [],
   "source": [
    "bayes = BayesClassifier(X_train, y_train)\n",
    "bayes.fit()"
   ]
  },
  {
   "cell_type": "markdown",
   "metadata": {},
   "source": [
    "### Prediction"
   ]
  },
  {
   "cell_type": "code",
   "execution_count": 17,
   "metadata": {},
   "outputs": [],
   "source": [
    "pred = bayes.predict(X_val)"
   ]
  },
  {
   "cell_type": "code",
   "execution_count": 18,
   "metadata": {},
   "outputs": [
    {
     "name": "stdout",
     "output_type": "stream",
     "text": [
      "              precision    recall  f1-score   support\n",
      "\n",
      "           0       0.15      0.19      0.16       198\n",
      "           1       0.12      0.19      0.14       214\n",
      "           2       0.15      0.09      0.11       200\n",
      "           3       0.09      0.02      0.03       187\n",
      "           4       0.20      0.38      0.27       212\n",
      "           5       0.15      0.15      0.15       216\n",
      "           6       0.10      0.10      0.10       212\n",
      "           7       0.16      0.04      0.07       210\n",
      "\n",
      "    accuracy                           0.15      1649\n",
      "   macro avg       0.14      0.15      0.13      1649\n",
      "weighted avg       0.14      0.15      0.13      1649\n",
      "\n",
      "14.736203759854458\n"
     ]
    },
    {
     "data": {
      "image/png": "[encoded data removed]",
      "text/plain": [
       "<Figure size 640x480 with 2 Axes>"
      ]
     },
     "metadata": {},
     "output_type": "display_data"
    }
   ],
   "source": [
    "score = accuracy_score(y_val, pred)\n",
    "report = classification_report(y_val, pred)\n",
    "cm = confusion_matrix(y_val, pred)\n",
    "\n",
    "print(report)\n",
    "print(score * 100)\n",
    "sns.heatmap(cm, annot=True)\n",
    "plt.show()"
   ]
  },
  {
   "cell_type": "markdown",
   "metadata": {},
   "source": [
    "## Bayes Classifier on Gray Scale"
   ]
  },
  {
   "cell_type": "markdown",
   "metadata": {},
   "source": [
    "### Load Data"
   ]
  },
  {
   "cell_type": "code",
   "execution_count": 20,
   "metadata": {},
   "outputs": [],
   "source": [
    "data_path = 'data.csv'\n",
    "data = pd.read_csv(data_path)\n",
    "main_folder = 'data'\n",
    "\n",
    "def load_frames(video_id):\n",
    "    folder = os.path.join(main_folder, str(video_id))\n",
    "    frames = []\n",
    "    for img in sorted(os.listdir(folder)):\n",
    "        img_path = os.path.join(folder, img)\n",
    "        img = Image.open(img_path).convert('L')\n",
    "        frames.append(np.array(img).flatten())\n",
    "    return np.array(frames).flatten()  \n",
    "\n",
    "features = []\n",
    "labels = []\n",
    "for index, row in data.iterrows():\n",
    "    video_id = row['video_id']\n",
    "    label_id = row['label_id']\n",
    "    feature_vector = load_frames(video_id)\n",
    "    features.append(feature_vector)\n",
    "    labels.append(label_id)\n",
    "\n",
    "X = np.array(features)\n",
    "y = np.array(labels)"
   ]
  },
  {
   "cell_type": "markdown",
   "metadata": {},
   "source": [
    "### Train Test Split"
   ]
  },
  {
   "cell_type": "code",
   "execution_count": 21,
   "metadata": {},
   "outputs": [],
   "source": [
    "X_train, X_temp, y_train, y_temp = train_test_split(X, y, test_size=0.4)\n",
    "X_val, X_test, y_val, y_test = train_test_split(X_temp, y_temp, test_size=0.5)"
   ]
  },
  {
   "cell_type": "markdown",
   "metadata": {},
   "source": [
    "### Fit Model"
   ]
  },
  {
   "cell_type": "code",
   "execution_count": 22,
   "metadata": {},
   "outputs": [],
   "source": [
    "bayes = BayesClassifier(X_train, y_train)\n",
    "bayes.fit()"
   ]
  },
  {
   "cell_type": "markdown",
   "metadata": {},
   "source": [
    "### Prediction"
   ]
  },
  {
   "cell_type": "code",
   "execution_count": 23,
   "metadata": {},
   "outputs": [],
   "source": [
    "pred = bayes.predict(X_val)"
   ]
  },
  {
   "cell_type": "code",
   "execution_count": 24,
   "metadata": {},
   "outputs": [
    {
     "name": "stdout",
     "output_type": "stream",
     "text": [
      "              precision    recall  f1-score   support\n",
      "\n",
      "           0       0.11      0.14      0.13       207\n",
      "           1       0.12      0.06      0.08       189\n",
      "           2       0.13      0.08      0.10       214\n",
      "           3       0.13      0.10      0.12       195\n",
      "           4       0.20      0.35      0.25       206\n",
      "           5       0.13      0.25      0.17       198\n",
      "           6       0.16      0.12      0.14       214\n",
      "           7       0.09      0.03      0.04       226\n",
      "\n",
      "    accuracy                           0.14      1649\n",
      "   macro avg       0.13      0.14      0.13      1649\n",
      "weighted avg       0.13      0.14      0.13      1649\n",
      "\n",
      "14.129775621588841\n"
     ]
    },
    {
     "data": {
      "image/png": "[encoded data removed]",
      "text/plain": [
       "<Figure size 640x480 with 2 Axes>"
      ]
     },
     "metadata": {},
     "output_type": "display_data"
    }
   ],
   "source": [
    "score = accuracy_score(y_val, pred)\n",
    "report = classification_report(y_val, pred)\n",
    "cm = confusion_matrix(y_val, pred)\n",
    "\n",
    "print(report)\n",
    "print(score * 100)\n",
    "sns.heatmap(cm, annot=True)\n",
    "plt.show()"
   ]
  },
  {
   "cell_type": "markdown",
   "metadata": {},
   "source": [
    "## Bayes Classifier with LDA"
   ]
  },
  {
   "cell_type": "markdown",
   "metadata": {},
   "source": [
    "### Load Data"
   ]
  },
  {
   "cell_type": "code",
   "execution_count": 3,
   "metadata": {},
   "outputs": [],
   "source": [
    "def extract_features(video_id, base_path, lda):\n",
    "    features = []\n",
    "    folder_path = os.path.join(base_path, str(video_id))\n",
    "    if os.path.exists(folder_path):\n",
    "        for frame in os.listdir(folder_path):\n",
    "            frame_path = os.path.join(folder_path, frame)\n",
    "            img = cv2.imread(frame_path, cv2.IMREAD_GRAYSCALE)\n",
    "            if img is not None:\n",
    "                img = cv2.resize(img, (32, 32)) \n",
    "                features.append(img.flatten())\n",
    "    \n",
    "    if features:\n",
    "        features = np.array(features)\n",
    "        lda_features = lda.transform(features)\n",
    "        lda_features = np.mean(lda_features, axis=0)\n",
    "        return lda_features\n",
    "    else:\n",
    "        return np.zeros(lda.n_components)\n",
    "\n"
   ]
  },
  {
   "cell_type": "code",
   "execution_count": 4,
   "metadata": {},
   "outputs": [],
   "source": [
    "data = pd.read_csv('data.csv')\n",
    "base_path = 'data'"
   ]
  },
  {
   "cell_type": "code",
   "execution_count": 5,
   "metadata": {},
   "outputs": [],
   "source": [
    "def train_lda(X, y, n_components=3):\n",
    "    lda = LinearDiscriminantAnalysis(n_components=n_components)\n",
    "    lda.fit(X, y)\n",
    "    return lda\n",
    "\n",
    "all_features = []\n",
    "all_labels = []\n",
    "for _, row in data.iterrows():\n",
    "    video_id = row['video_id']\n",
    "    label = row['label_id']\n",
    "    folder_path = os.path.join(base_path, str(video_id))\n",
    "    if os.path.exists(folder_path):\n",
    "        for frame in os.listdir(folder_path):\n",
    "            frame_path = os.path.join(folder_path, frame)\n",
    "            img = cv2.imread(frame_path, cv2.IMREAD_GRAYSCALE)\n",
    "            if img is not None:\n",
    "                img = cv2.resize(img, (32, 32))\n",
    "                all_features.append(img.flatten())\n",
    "                all_labels.append(label)\n",
    "\n",
    "all_features = np.array(all_features)\n",
    "all_labels = np.array(all_labels)\n",
    "\n",
    "\n",
    "lda = train_lda(all_features, all_labels)\n"
   ]
  },
  {
   "cell_type": "code",
   "execution_count": null,
   "metadata": {},
   "outputs": [],
   "source": [
    "data['features'] = data['video_id'].apply(lambda x: extract_features(x, base_path, lda))\n",
    "X = np.vstack(data['features'].values)\n",
    "y = data['label_id'].values"
   ]
  },
  {
   "cell_type": "markdown",
   "metadata": {},
   "source": [
    "### Train Test Split"
   ]
  },
  {
   "cell_type": "code",
   "execution_count": 5,
   "metadata": {},
   "outputs": [],
   "source": [
    "X_train, X_temp, y_train, y_temp = train_test_split(X, y, test_size=0.4)\n",
    "X_val, X_test, y_val, y_test = train_test_split(X_temp, y_temp, test_size=0.5)"
   ]
  },
  {
   "cell_type": "markdown",
   "metadata": {},
   "source": [
    "### Apply LDA"
   ]
  },
  {
   "cell_type": "code",
   "execution_count": 7,
   "metadata": {},
   "outputs": [
    {
     "ename": "",
     "evalue": "",
     "output_type": "error",
     "traceback": [
      "\u001b[1;31mThe Kernel crashed while executing code in the current cell or a previous cell. \n",
      "\u001b[1;31mPlease review the code in the cell(s) to identify a possible cause of the failure. \n",
      "\u001b[1;31mClick <a href='https://aka.ms/vscodeJupyterKernelCrash'>here</a> for more info. \n",
      "\u001b[1;31mView Jupyter <a href='command:jupyter.viewOutput'>log</a> for further details."
     ]
    }
   ],
   "source": [
    "lda = LinearDiscriminantAnalysis(n_components=3) \n",
    "X_train_lda = lda.fit_transform(X_train, y_train)\n",
    "X_val_lda = lda.transform(X_val)"
   ]
  },
  {
   "cell_type": "markdown",
   "metadata": {},
   "source": [
    "### Fit Model"
   ]
  },
  {
   "cell_type": "code",
   "execution_count": null,
   "metadata": {},
   "outputs": [],
   "source": [
    "bayes = BayesClassifier(X_train_lda, y_train)\n",
    "bayes.fit()"
   ]
  },
  {
   "cell_type": "markdown",
   "metadata": {},
   "source": [
    "### Prediction"
   ]
  },
  {
   "cell_type": "code",
   "execution_count": null,
   "metadata": {},
   "outputs": [],
   "source": [
    "pred = bayes.predict(X_val)"
   ]
  },
  {
   "cell_type": "code",
   "execution_count": null,
   "metadata": {},
   "outputs": [],
   "source": [
    "score = accuracy_score(y_val, pred)\n",
    "report = classification_report(y_val, pred)\n",
    "cm = confusion_matrix(y_val, pred)\n",
    "\n",
    "print(report)\n",
    "print(f\"Accuracy: {score * 100:.2f}%\")\n",
    "sns.heatmap(cm, annot=True)\n",
    "plt.show()"
   ]
  },
  {
   "cell_type": "code",
   "execution_count": 10,
   "metadata": {},
   "outputs": [],
   "source": [
    "data_path = 'data.csv'\n",
    "data = pd.read_csv(data_path)\n",
    "main_folder = 'data'\n",
    "\n",
    "def load_frames(video_id):\n",
    "    folder = os.path.join(main_folder, str(video_id))\n",
    "    frames = []\n",
    "    for img in sorted(os.listdir(folder)):\n",
    "        img_path = os.path.join(folder, img)\n",
    "        img = Image.open(img_path)\n",
    "        frames.append(np.array(img).flatten())\n",
    "    return np.array(frames).flatten()  \n",
    "\n",
    "features = []\n",
    "labels = []\n",
    "for index, row in data.iterrows():\n",
    "    video_id = row['video_id']\n",
    "    label_id = row['label_id']\n",
    "    feature_vector = load_frames(video_id)\n",
    "    features.append(feature_vector)\n",
    "    labels.append(label_id)\n",
    "\n",
    "X = np.array(features)\n",
    "y = np.array(labels)"
   ]
  },
  {
   "cell_type": "code",
   "execution_count": 11,
   "metadata": {},
   "outputs": [],
   "source": [
    "sffs = SFS(GaussianNB(), \n",
    "           k_features='parsimonious', \n",
    "           forward=True, \n",
    "           floating=True, \n",
    "           scoring='accuracy',\n",
    "           cv=0)\n",
    "\n",
    "sffs = sffs.fit(X, y)\n",
    "X_selected = sffs.transform(X)"
   ]
  },
  {
   "cell_type": "code",
   "execution_count": null,
   "metadata": {},
   "outputs": [],
   "source": [
    "X_train, X_temp, y_train, y_temp = train_test_split(X_selected, y, test_size=0.4)\n",
    "X_val, X_test, y_val, y_test = train_test_split(X_temp, y_temp, test_size=0.5)"
   ]
  },
  {
   "cell_type": "code",
   "execution_count": null,
   "metadata": {},
   "outputs": [],
   "source": [
    "bayes = BayesClassifier(X_train, y_train)\n",
    "bayes.fit()"
   ]
  },
  {
   "cell_type": "code",
   "execution_count": null,
   "metadata": {},
   "outputs": [],
   "source": [
    "pred = bayes.predict(X_val)"
   ]
  },
  {
   "cell_type": "code",
   "execution_count": null,
   "metadata": {},
   "outputs": [],
   "source": [
    "score = accuracy_score(y_val, pred)\n",
    "report = classification_report(y_val, pred)\n",
    "cm = confusion_matrix(y_val, pred)\n",
    "\n",
    "print(report)\n",
    "print(score * 100)\n",
    "sns.heatmap(cm, annot=True)\n",
    "plt.show()\n"
   ]
  }
 ],
 "metadata": {
  "kernelspec": {
   "display_name": "dl",
   "language": "python",
   "name": "python3"
  },
  "language_info": {
   "codemirror_mode": {
    "name": "ipython",
    "version": 3
   },
   "file_extension": ".py",
   "mimetype": "text/x-python",
   "name": "python",
   "nbconvert_exporter": "python",
   "pygments_lexer": "ipython3",
   "version": "3.10.14"
  }
 },
 "nbformat": 4,
 "nbformat_minor": 2
}
