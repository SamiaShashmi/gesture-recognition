{
 "cells": [
  {
   "cell_type": "code",
   "execution_count": 1,
   "metadata": {},
   "outputs": [],
   "source": [
    "import os\n",
    "import shutil\n",
    "import pandas as pd\n",
    "import matplotlib.pyplot as plt\n",
    "from PIL import Image, ImageFilter, ImageOps\n",
    "import numpy as np"
   ]
  },
  {
   "cell_type": "markdown",
   "metadata": {},
   "source": [
    "### Combining Train and Validation set"
   ]
  },
  {
   "cell_type": "code",
   "execution_count": 2,
   "metadata": {},
   "outputs": [
    {
     "name": "stdout",
     "output_type": "stream",
     "text": [
      "Subfolders have been successfully combined.\n"
     ]
    }
   ],
   "source": [
    "def combine_subfolders(src1, src2, dest):\n",
    "    os.makedirs(dest, exist_ok=True)  \n",
    "    def move_subdirectories(source):\n",
    "        for subdir in os.listdir(source):\n",
    "            full_subdir_path = os.path.join(source, subdir)\n",
    "            if os.path.isdir(full_subdir_path):  \n",
    "                dest_subdir_path = os.path.join(dest, subdir)\n",
    "                \n",
    "                if os.path.exists(dest_subdir_path):\n",
    "                    print(f\"Directory {subdir} already exists in destination. Skipping...\")\n",
    "                else:\n",
    "                    shutil.move(full_subdir_path, dest) \n",
    "    move_subdirectories(src1)\n",
    "    move_subdirectories(src2)\n",
    "    print(\"Subfolders have been successfully combined.\")\n",
    "\n",
    "train_dir = 'Train'\n",
    "validation_dir = 'Validation'\n",
    "combined_dir = 'data'\n",
    "\n",
    "combine_subfolders(train_dir, validation_dir, combined_dir)\n"
   ]
  },
  {
   "cell_type": "code",
   "execution_count": 3,
   "metadata": {},
   "outputs": [],
   "source": [
    "csv_file_1 = 'Train.csv'\n",
    "csv_file_2 = 'Validation.csv'\n",
    "\n",
    "data1 = pd.read_csv(csv_file_1)\n",
    "data2 = pd.read_csv(csv_file_2)\n",
    "\n",
    "combined_data = pd.concat([data1, data2], ignore_index=True)\n",
    "combined_data.to_csv('data.csv', index=False)\n"
   ]
  },
  {
   "cell_type": "markdown",
   "metadata": {},
   "source": [
    "### Delete Original Train, Test and Validation Set"
   ]
  },
  {
   "cell_type": "code",
   "execution_count": 4,
   "metadata": {},
   "outputs": [],
   "source": [
    "shutil.rmtree('Train')\n",
    "shutil.rmtree('Test')\n",
    "shutil.rmtree('Validation')\n",
    "os.remove('Train.csv')\n",
    "os.remove('Test.csv')\n",
    "os.remove('Validation.csv')"
   ]
  },
  {
   "cell_type": "markdown",
   "metadata": {},
   "source": [
    "### Histogram of the Classes"
   ]
  },
  {
   "cell_type": "code",
   "execution_count": 5,
   "metadata": {},
   "outputs": [
    {
     "data": {
      "image/png": "[encoded data removed]",
      "text/plain": [
       "<Figure size 640x480 with 1 Axes>"
      ]
     },
     "metadata": {},
     "output_type": "display_data"
    }
   ],
   "source": [
    "csv_file_path = 'data.csv'\n",
    "data = pd.read_csv(csv_file_path)\n",
    "\n",
    "label_counts = data['label_id'].value_counts().sort_values(ascending=False)\n",
    "\n",
    "plt.bar(label_counts.index.astype(str), label_counts.values)\n",
    "plt.xlabel('Label ID')\n",
    "plt.ylabel('Frequency')\n",
    "plt.title('Histogram of Label ID Sorted by Frequency')\n",
    "plt.show()"
   ]
  },
  {
   "cell_type": "code",
   "execution_count": 6,
   "metadata": {},
   "outputs": [
    {
     "name": "stdout",
     "output_type": "stream",
     "text": [
      "Label ID: 0, Label: Doing other things\n",
      "Label ID: 6, Label: Pushing Two Fingers Away\n",
      "Label ID: 1, Label: Drumming Fingers\n",
      "Label ID: 10, Label: Sliding Two Fingers Down\n",
      "Label ID: 5, Label: Pushing Hand Away\n",
      "Label ID: 9, Label: Shaking Hand\n",
      "Label ID: 4, Label: Pulling Two Fingers In\n",
      "Label ID: 14, Label: Stop Sign\n",
      "Label ID: 24, Label: Zooming In With Two Fingers\n",
      "Label ID: 13, Label: Sliding Two Fingers Up\n",
      "Label ID: 26, Label: Zooming Out With Two Fingers\n",
      "Label ID: 23, Label: Zooming In With Full Hand\n",
      "Label ID: 2, Label: No gesture\n",
      "Label ID: 17, Label: Swiping Right\n",
      "Label ID: 19, Label: Thumb Down\n",
      "Label ID: 8, Label: Rolling Hand Forward\n",
      "Label ID: 3, Label: Pulling Hand In\n",
      "Label ID: 25, Label: Zooming Out With Full Hand\n",
      "Label ID: 16, Label: Swiping Left\n",
      "Label ID: 7, Label: Rolling Hand Backward\n",
      "Label ID: 22, Label: Turning Hand Counterclockwise\n",
      "Label ID: 18, Label: Swiping Up\n",
      "Label ID: 21, Label: Turning Hand Clockwise\n",
      "Label ID: 11, Label: Sliding Two Fingers Left\n",
      "Label ID: 15, Label: Swiping Down\n",
      "Label ID: 20, Label: Thumb Up\n",
      "Label ID: 12, Label: Sliding Two Fingers Right\n"
     ]
    }
   ],
   "source": [
    "label_pairs = data[['label_id', 'label']].drop_duplicates()\n",
    "\n",
    "for index, row in label_pairs.iterrows():\n",
    "    print(f\"Label ID: {row['label_id']}, Label: {row['label']}\")"
   ]
  },
  {
   "cell_type": "markdown",
   "metadata": {},
   "source": [
    "### Delete the Classes to Shrink the Dataset"
   ]
  },
  {
   "cell_type": "code",
   "execution_count": 13,
   "metadata": {},
   "outputs": [],
   "source": [
    "label_ids_to_remove = [0, 1, 2, 3, 4, 5, 6, 7, 8, 9, 14, 15, 16, 17, 18, 21, 22, 23, 25]\n",
    "\n",
    "filtered_data = data[~data['label_id'].isin(label_ids_to_remove)]\n",
    "\n",
    "filtered_data.to_csv('filtered_data.csv', index=False)\n",
    "\n",
    "data_folder = 'data'\n",
    "\n",
    "for video_id in data[data['label_id'].isin(label_ids_to_remove)]['video_id'].unique():\n",
    "    folder_path = os.path.join(data_folder, str(video_id))\n",
    "    shutil.rmtree(folder_path)\n"
   ]
  },
  {
   "cell_type": "markdown",
   "metadata": {},
   "source": [
    "### Reduce data to one-third for each class"
   ]
  },
  {
   "cell_type": "code",
   "execution_count": 5,
   "metadata": {},
   "outputs": [
    {
     "name": "stderr",
     "output_type": "stream",
     "text": [
      "/tmp/ipykernel_7835/450458375.py:4: DeprecationWarning: DataFrameGroupBy.apply operated on the grouping columns. This behavior is deprecated, and in a future version of pandas the grouping columns will be excluded from the operation. Either pass `include_groups=False` to exclude the groupings or explicitly select the grouping columns after groupby to silence this warning.\n",
      "  sampled_df = df.groupby('label_id').apply(sample_one_third).reset_index(drop=True)\n"
     ]
    }
   ],
   "source": [
    "df = pd.read_csv('data.csv')\n",
    "def sample_one_third(group):\n",
    "    return group.sample(frac=1/2)\n",
    "sampled_df = df.groupby('label_id').apply(sample_one_third).reset_index(drop=True)\n",
    "sampled_df.to_csv('data.csv', index=False)"
   ]
  },
  {
   "cell_type": "code",
   "execution_count": 6,
   "metadata": {},
   "outputs": [],
   "source": [
    "shuffled_df = sampled_df.sample(frac=1).reset_index(drop=True)\n",
    "shuffled_df.to_csv('data.csv', index=False)\n"
   ]
  },
  {
   "cell_type": "markdown",
   "metadata": {},
   "source": [
    "### Histogram of Selected Classes"
   ]
  },
  {
   "cell_type": "code",
   "execution_count": 7,
   "metadata": {},
   "outputs": [
    {
     "data": {
      "image/png": "[encoded data removed]",
      "text/plain": [
       "<Figure size 640x480 with 1 Axes>"
      ]
     },
     "metadata": {},
     "output_type": "display_data"
    }
   ],
   "source": [
    "csv_file_path = 'data.csv'\n",
    "data = pd.read_csv(csv_file_path)\n",
    "\n",
    "label_counts = data['label_id'].value_counts().sort_values(ascending=False)\n",
    "\n",
    "plt.bar(label_counts.index.astype(str), label_counts.values)\n",
    "plt.xlabel('Label ID')\n",
    "plt.ylabel('Frequency')\n",
    "plt.title('Histogram of Label ID Sorted by Frequency')\n",
    "plt.show()"
   ]
  },
  {
   "cell_type": "markdown",
   "metadata": {},
   "source": [
    "### Shrink Videos by Deleteing Selected Images"
   ]
  },
  {
   "cell_type": "code",
   "execution_count": 9,
   "metadata": {},
   "outputs": [],
   "source": [
    "def shrink_video(main_folder):\n",
    "    keep_files = [\"00001.jpg\", \"00004.jpg\", \"00007.jpg\", \"00010.jpg\", \"00013.jpg\", \n",
    "                  \"00016.jpg\", \"00019.jpg\", \"00022.jpg\", \"00025.jpg\", \"00028.jpg\", \n",
    "                  \"00031.jpg\", \"00034.jpg\", \"00037.jpg\"]\n",
    "    \n",
    "    for subdir in os.listdir(main_folder):\n",
    "        subdir_path = os.path.join(main_folder, subdir)\n",
    "        \n",
    "        if os.path.isdir(subdir_path):\n",
    "            for file in os.listdir(subdir_path):\n",
    "                if file.endswith(\".jpg\") and file not in keep_files:\n",
    "                    file_path = os.path.join(subdir_path, file)\n",
    "                    os.remove(file_path)\n",
    "\n",
    "main_folder = 'data'\n",
    "\n",
    "shrink_video(main_folder)"
   ]
  },
  {
   "cell_type": "markdown",
   "metadata": {},
   "source": [
    "### Renaming Frames Sequentially"
   ]
  },
  {
   "cell_type": "code",
   "execution_count": 7,
   "metadata": {},
   "outputs": [],
   "source": [
    "def rename_files_sequentially(main_folder):\n",
    "    for subdir, _, files in os.walk(main_folder):\n",
    "        files.sort()  \n",
    "        i = 1\n",
    "        for filename in files:\n",
    "            if filename.endswith(\".jpg\"): \n",
    "                new_filename = f\"{i:05d}.jpg\"  \n",
    "                old_file_path = os.path.join(subdir, filename)\n",
    "                new_file_path = os.path.join(subdir, new_filename)\n",
    "                os.rename(old_file_path, new_file_path) \n",
    "                i += 1\n",
    "main_folder = 'data'\n",
    "\n",
    "rename_files_sequentially(main_folder)"
   ]
  },
  {
   "cell_type": "markdown",
   "metadata": {},
   "source": [
    "### Reduce the Resolution of the Images"
   ]
  },
  {
   "cell_type": "code",
   "execution_count": 15,
   "metadata": {},
   "outputs": [
    {
     "name": "stderr",
     "output_type": "stream",
     "text": [
      "/var/folders/p5/nlkttxd50dxcnyk_j_3_rrg40000gn/T/ipykernel_13475/1632644434.py:8: DeprecationWarning: ANTIALIAS is deprecated and will be removed in Pillow 10 (2023-07-01). Use LANCZOS or Resampling.LANCZOS instead.\n",
      "  img = img.resize((100, 100), Image.ANTIALIAS)\n"
     ]
    }
   ],
   "source": [
    "def resize_images(main_folder):\n",
    "    for subdir in os.listdir(main_folder):\n",
    "        subdir_path = os.path.join(main_folder, subdir)\n",
    "        if os.path.isdir(subdir_path):\n",
    "            for file in os.listdir(subdir_path):\n",
    "                file_path = os.path.join(subdir_path, file)\n",
    "                with Image.open(file_path) as img:\n",
    "                    img = img.resize((100, 100), Image.ANTIALIAS)\n",
    "                    img.save(file_path)\n",
    "                    \n",
    "main_folder = 'data'\n",
    "resize_images(main_folder)"
   ]
  },
  {
   "cell_type": "markdown",
   "metadata": {},
   "source": [
    "### Denoising"
   ]
  },
  {
   "cell_type": "code",
   "execution_count": 17,
   "metadata": {},
   "outputs": [],
   "source": [
    "def denoise_images(main_folder):\n",
    "    for subdir in os.listdir(main_folder):\n",
    "        subdir_path = os.path.join(main_folder, subdir)\n",
    "        if os.path.isdir(subdir_path):\n",
    "            for file in os.listdir(subdir_path):\n",
    "                file_path = os.path.join(subdir_path, file)\n",
    "                with Image.open(file_path) as img:\n",
    "                    img = img.filter(ImageFilter.MedianFilter(size=3))\n",
    "                    img.save(file_path)\n",
    "                    \n",
    "main_folder = 'data'\n",
    "denoise_images(main_folder)"
   ]
  },
  {
   "cell_type": "markdown",
   "metadata": {},
   "source": [
    "### 0-1 Normalization"
   ]
  },
  {
   "cell_type": "code",
   "execution_count": 4,
   "metadata": {},
   "outputs": [],
   "source": [
    "def normalize_01(source_folder, target_folder):\n",
    "    os.makedirs(target_folder, exist_ok=True)\n",
    "\n",
    "    for subdir, _, files in os.walk(source_folder):\n",
    "        for filename in files:\n",
    "            if filename.endswith(\".jpg\"):\n",
    "                file_path = os.path.join(subdir, filename)\n",
    "                image = Image.open(file_path)\n",
    "                image_array = np.asarray(image).astype(float)\n",
    "                normalized_array = image_array / 255.0\n",
    "                normalized_image = Image.fromarray(np.uint8(normalized_array * 255))\n",
    "\n",
    "                relative_path = os.path.relpath(subdir, source_folder)\n",
    "                target_subfolder = os.path.join(target_folder, relative_path)\n",
    "                os.makedirs(target_subfolder, exist_ok=True)\n",
    "                normalized_image.save(os.path.join(target_subfolder, filename))\n",
    "\n",
    "main_folder = \"data\"  \n",
    "target_folder = \"data_normalized_01\" \n",
    "normalize_01(main_folder, target_folder)\n"
   ]
  },
  {
   "cell_type": "markdown",
   "metadata": {},
   "source": [
    "### Global Histogram Equalization"
   ]
  },
  {
   "cell_type": "code",
   "execution_count": 7,
   "metadata": {},
   "outputs": [],
   "source": [
    "def histogram_equalization(source_folder, target_folder):\n",
    "    os.makedirs(target_folder, exist_ok=True)\n",
    "    for subdir, _, files in os.walk(source_folder):\n",
    "        for filename in files:\n",
    "            if filename.endswith(\".jpg\"):\n",
    "                file_path = os.path.join(subdir, filename)\n",
    "                image = Image.open(file_path).convert('YCbCr')\n",
    "                y, cb, cr = image.split()\n",
    "                y_eq = ImageOps.equalize(y)\n",
    "                result_image = Image.merge('YCbCr', (y_eq, cb, cr)).convert('RGB')\n",
    "                \n",
    "                relative_path = os.path.relpath(subdir, source_folder)\n",
    "                target_subfolder = os.path.join(target_folder, relative_path)\n",
    "                os.makedirs(target_subfolder, exist_ok=True)\n",
    "                result_image.save(os.path.join(target_subfolder, filename))\n",
    "\n",
    "main_folder = \"data\" \n",
    "target_folder = \"data_he\" \n",
    "histogram_equalization(main_folder, target_folder)\n"
   ]
  },
  {
   "cell_type": "markdown",
   "metadata": {},
   "source": [
    "## Grayscale"
   ]
  },
  {
   "cell_type": "code",
   "execution_count": 8,
   "metadata": {},
   "outputs": [],
   "source": [
    "def convert_grayscale(source_folder, target_folder):\n",
    "    os.makedirs(target_folder, exist_ok=True)\n",
    "    for subdir, _, files in os.walk(source_folder):\n",
    "        for filename in files:\n",
    "            if filename.endswith(\".jpg\"):\n",
    "                file_path = os.path.join(subdir, filename)\n",
    "                image = Image.open(file_path)\n",
    "                gray_image = image.convert('L')\n",
    "                \n",
    "                relative_path = os.path.relpath(subdir, source_folder)\n",
    "                target_subfolder = os.path.join(target_folder, relative_path)\n",
    "                os.makedirs(target_subfolder, exist_ok=True)\n",
    "                gray_image.save(os.path.join(target_subfolder, filename))\n",
    "\n",
    "main_folder = \"data\" \n",
    "target_folder = \"data_gray\" \n",
    "convert_grayscale(main_folder, target_folder)\n"
   ]
  },
  {
   "cell_type": "markdown",
   "metadata": {},
   "source": [
    "### Map labels"
   ]
  },
  {
   "cell_type": "code",
   "execution_count": 2,
   "metadata": {},
   "outputs": [],
   "source": [
    "df = pd.read_csv('data.csv')\n",
    "label_id_mapping = {\n",
    "    10: 0, 11: 1, 12: 2, 13: 3,\n",
    "    19: 4, 20: 5, 24: 6, 26: 7\n",
    "}\n",
    "df['label_id'] = df['label_id'].map(label_id_mapping)\n",
    "\n",
    "df.to_csv('data.csv', index=False)"
   ]
  },
  {
   "cell_type": "code",
   "execution_count": null,
   "metadata": {},
   "outputs": [],
   "source": []
  }
 ],
 "metadata": {
  "kernelspec": {
   "display_name": "cv",
   "language": "python",
   "name": "python3"
  },
  "language_info": {
   "codemirror_mode": {
    "name": "ipython",
    "version": 3
   },
   "file_extension": ".py",
   "mimetype": "text/x-python",
   "name": "python",
   "nbconvert_exporter": "python",
   "pygments_lexer": "ipython3",
   "version": "3.10.14"
  }
 },
 "nbformat": 4,
 "nbformat_minor": 2
}
